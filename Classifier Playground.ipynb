{
 "cells": [
  {
   "cell_type": "code",
   "execution_count": 77,
   "metadata": {
    "collapsed": true
   },
   "outputs": [],
   "source": [
    "import pandas as pd\n",
    "import numpy as np\n",
    "import os, sys, json, pickle, time\n",
    "from collections import Counter"
   ]
  },
  {
   "cell_type": "code",
   "execution_count": 25,
   "metadata": {},
   "outputs": [
    {
     "name": "stdout",
     "output_type": "stream",
     "text": [
      " 92.31 %"
     ]
    }
   ],
   "source": [
    "#Some code to make it pickle files\n",
    "years = range(1880, 2011)\n",
    "data_dir = 'data/features_csv/test/'\n",
    "data_all = pd.DataFrame()\n",
    "files = os.listdir(data_dir)\n",
    "num_files = len(files)\n",
    "x = 0\n",
    "for i in os.listdir(data_dir):\n",
    "  if 'csv' not in i:\n",
    "    continue\n",
    "  \n",
    "  sys.stdout.write(\"\\r {:.2f} %\".format(100*x/num_files))\n",
    "  sys.stdout.flush()\n",
    "  frame = pd.read_csv(os.path.join(data_dir,i), header = None)\n",
    "\n",
    "  data_all = data_all.append(frame, ignore_index=True)\n",
    "  x += 1\n",
    " \n",
    "data = data_all.values\n",
    "with open('data/512_test.pickle','wb') as f:\n",
    "  pickle.dump(data, f)"
   ]
  },
  {
   "cell_type": "code",
   "execution_count": null,
   "metadata": {
    "collapsed": true
   },
   "outputs": [],
   "source": []
  },
  {
   "cell_type": "code",
   "execution_count": 28,
   "metadata": {},
   "outputs": [],
   "source": [
    "with open('data/512_train.pickle','rb') as f:\n",
    "  train_data = pickle.load(f)\n",
    "  \n",
    "with open('data/512_test.pickle','rb') as f:\n",
    "  test_data = pickle.load(f)\n",
    "  \n",
    "with open('data/512_validation.pickle','rb') as f:\n",
    "  validation_data = pickle.load(f)"
   ]
  },
  {
   "cell_type": "code",
   "execution_count": 29,
   "metadata": {
    "collapsed": true
   },
   "outputs": [],
   "source": [
    "Xtrain, ytrain = train_data[:,1:-1], train_data[:,-1]\n",
    "Xvalidation, yvalidation = validation_data[:,1:-1], validation_data[:,-1]\n",
    "Xtest = test_data[:,1:]"
   ]
  },
  {
   "cell_type": "code",
   "execution_count": 79,
   "metadata": {},
   "outputs": [],
   "source": [
    "test_id = [int(i) for i in test_data[:,0]]"
   ]
  },
  {
   "cell_type": "markdown",
   "metadata": {},
   "source": [
    "# Forward feature selection\n",
    "---\n",
    "\n",
    "Let first try what they did in the exercises. So forward feature selection:\n",
    "Lets (as in the exercise) try to find 5 features that are \"good\" using a random sample of 10000.\n",
    "\n",
    "---"
   ]
  },
  {
   "cell_type": "code",
   "execution_count": null,
   "metadata": {
    "collapsed": true
   },
   "outputs": [],
   "source": [
    "#numpy.random.seed(1)\n",
    "rnd_list = np.random.randint(0, train_data.shape[0],10000)\n",
    "rnd_trn, rnd_val = rnd_list[:8000], rnd_list[8000:]\n",
    "\n",
    "Xtrn, ytrn = Xtrain[rnd_trn], ytrain[rnd_trn]\n",
    "Xval, yval = Xtrain[rnd_val], ytrain[rnd_val]"
   ]
  },
  {
   "cell_type": "code",
   "execution_count": null,
   "metadata": {
    "collapsed": true
   },
   "outputs": [],
   "source": [
    "start = time.time()\n",
    "\n",
    "good_features = []\n",
    "val_scores = []\n",
    "\n",
    "feature_list = list(range(Xtrain.shape[1]))\n",
    "\n",
    "for j in range(1,6):\n",
    "    scores = []\n",
    "    for i in feature_list:\n",
    "        feature_slice = good_features+[i]\n",
    "        X = Xtrn[:,feature_slice]\n",
    "        model = KNeighborsClassifier(n_neighbors=10)\n",
    "        model.fit(X, ytrn)\n",
    "        scores.append(1- model.score(Xval[:,feature_slice],yval))\n",
    "    \n",
    "    best_ind = np.argmin(scores)\n",
    "    best_feature = feature_list[best_ind]\n",
    "    \n",
    "    val_scores.append(scores[best_ind])\n",
    "    good_features.append(best_feature)\n",
    "    del feature_list[best_ind]\n",
    "    print(good_features)\n",
    "    \n",
    "print('Seconds to run: {}'.format(time.time() - start))"
   ]
  },
  {
   "cell_type": "code",
   "execution_count": null,
   "metadata": {
    "collapsed": true
   },
   "outputs": [],
   "source": [
    "val_scores"
   ]
  },
  {
   "cell_type": "markdown",
   "metadata": {},
   "source": [
    "### Conclusion\n",
    "\n",
    "It seems that 5 features is not enough to get a proper score. maybe 10000 is also not enough to do this. \n",
    "Also the exercise data had 54 features, we have 256, so maybe crank up the number of features desired. "
   ]
  },
  {
   "cell_type": "markdown",
   "metadata": {},
   "source": [
    "---\n",
    "# PCA\n",
    "\n",
    "Also to furter reduce the number of features, lets look at PCA\n",
    "\n",
    "----"
   ]
  },
  {
   "cell_type": "code",
   "execution_count": null,
   "metadata": {
    "collapsed": true
   },
   "outputs": [],
   "source": [
    "from sklearn.decomposition import PCA\n",
    "\n",
    "pca= PCA()\n",
    "pca.fit(Xtrain)"
   ]
  },
  {
   "cell_type": "code",
   "execution_count": null,
   "metadata": {
    "collapsed": true
   },
   "outputs": [],
   "source": [
    "print(pca.explained_variance_ratio_.cumsum()[65])\n",
    "np.where(pca.explained_variance_ratio_.cumsum()> 0.90)"
   ]
  },
  {
   "cell_type": "markdown",
   "metadata": {},
   "source": [
    "About 85% of the variance in data can be expressed using only 44 principle components. This seems like a nice number.\n",
    "\n",
    "So lets transform the data and run a couple classifiers."
   ]
  },
  {
   "cell_type": "code",
   "execution_count": null,
   "metadata": {
    "collapsed": true
   },
   "outputs": [],
   "source": [
    "TXtrain = pca.transform(Xtrain)[:,:65]\n",
    "TXvalidation = pca.transform(Xvalidation)[:,:65]"
   ]
  },
  {
   "cell_type": "code",
   "execution_count": 12,
   "metadata": {},
   "outputs": [
    {
     "data": {
      "text/plain": [
       "0.329370740212395"
      ]
     },
     "execution_count": 12,
     "metadata": {},
     "output_type": "execute_result"
    }
   ],
   "source": [
    "# K nearest neighbor classifier\n",
    "# Score is the mean accuracy\n",
    "\n",
    "from sklearn.neighbors import KNeighborsClassifier\n",
    "\n",
    "knn = KNeighborsClassifier(n_neighbors = 15)\n",
    "knn.fit(Xtrain,ytrain)\n",
    "knn.score(Xvalidation, yvalidation)"
   ]
  },
  {
   "cell_type": "code",
   "execution_count": 13,
   "metadata": {},
   "outputs": [
    {
     "data": {
      "text/plain": [
       "0.20399429386590584"
      ]
     },
     "execution_count": 13,
     "metadata": {},
     "output_type": "execute_result"
    }
   ],
   "source": [
    "# Random Forest Classifier\n",
    "# Score is the mean accuracy\n",
    "\n",
    "from sklearn.ensemble import RandomForestClassifier\n",
    "\n",
    "rfc = RandomForestClassifier(n_estimators = 10)\n",
    "rfc.fit(Xtrain, ytrain)\n",
    "rfc.score(Xvalidation,yvalidation)"
   ]
  },
  {
   "cell_type": "markdown",
   "metadata": {},
   "source": [
    "# Multilayer Perceptron Classifier\n",
    "\n"
   ]
  },
  {
   "cell_type": "code",
   "execution_count": 10,
   "metadata": {
    "collapsed": true
   },
   "outputs": [],
   "source": [
    "from sklearn.neural_network import MLPClassifier\n",
    "\n",
    "mlp = MLPClassifier((300,200), verbose =True, max_iter = 200, warm_start = True)"
   ]
  },
  {
   "cell_type": "code",
   "execution_count": 11,
   "metadata": {},
   "outputs": [
    {
     "name": "stdout",
     "output_type": "stream",
     "text": [
      "Iteration 1, loss = 3.02373672\n",
      "Iteration 2, loss = 2.51065148\n",
      "Iteration 3, loss = 2.35484323\n",
      "Iteration 4, loss = 2.25912217\n",
      "Iteration 5, loss = 2.18263533\n",
      "Iteration 6, loss = 2.12385648\n",
      "Iteration 7, loss = 2.07159256\n",
      "Iteration 8, loss = 2.02399032\n",
      "Iteration 9, loss = 1.98631843\n",
      "Iteration 10, loss = 1.94903998\n",
      "Iteration 11, loss = 1.91207602\n",
      "Iteration 12, loss = 1.88100177\n",
      "Iteration 13, loss = 1.85244606\n",
      "Iteration 14, loss = 1.82434157\n",
      "Iteration 15, loss = 1.79970239\n",
      "Iteration 16, loss = 1.77368930\n",
      "Iteration 17, loss = 1.75118753\n",
      "Iteration 18, loss = 1.73009354\n",
      "Iteration 19, loss = 1.71154910\n",
      "Iteration 20, loss = 1.69055406\n",
      "Iteration 21, loss = 1.67183322\n",
      "Iteration 22, loss = 1.65705165\n",
      "Iteration 23, loss = 1.63721227\n",
      "Iteration 24, loss = 1.62193730\n",
      "Iteration 25, loss = 1.60747303\n",
      "Iteration 26, loss = 1.59172125\n",
      "Iteration 27, loss = 1.57487736\n",
      "Iteration 28, loss = 1.56471175\n",
      "Iteration 29, loss = 1.55179197\n",
      "Iteration 30, loss = 1.53871677\n",
      "Iteration 31, loss = 1.52751260\n",
      "Iteration 32, loss = 1.51475008\n",
      "Iteration 33, loss = 1.50451139\n",
      "Iteration 34, loss = 1.49440286\n",
      "Iteration 35, loss = 1.48114820\n",
      "Iteration 36, loss = 1.47208203\n",
      "Iteration 37, loss = 1.46267812\n",
      "Iteration 38, loss = 1.45445288\n",
      "Iteration 39, loss = 1.44606382\n",
      "Iteration 40, loss = 1.43584972\n",
      "Iteration 41, loss = 1.42712479\n",
      "Iteration 42, loss = 1.42056220\n",
      "Iteration 43, loss = 1.41347282\n",
      "Iteration 44, loss = 1.40308584\n",
      "Iteration 45, loss = 1.39660779\n"
     ]
    },
    {
     "name": "stderr",
     "output_type": "stream",
     "text": [
      "/usr/local/lib/python3.6/site-packages/sklearn/neural_network/multilayer_perceptron.py:566: UserWarning: Training interrupted by user.\n",
      "  warnings.warn(\"Training interrupted by user.\")\n"
     ]
    },
    {
     "name": "stdout",
     "output_type": "stream",
     "text": [
      "0.4037089871611983 (Validation), 0.6364487877983671 (Train)\n"
     ]
    }
   ],
   "source": [
    "# A multilayer Preceptron\n",
    "# Score is the mean accuracy again\n",
    "\n",
    "mlp.fit(Xtrain, ytrain)\n",
    "print('{} (Validation), {} (Train)'.format(mlp.score(Xvalidation,yvalidation), mlp.score(Xtrain, ytrain)))\n"
   ]
  },
  {
   "cell_type": "code",
   "execution_count": 60,
   "metadata": {},
   "outputs": [],
   "source": [
    "with open('mlp.pickle','wb') as f:\n",
    "  pickle.dump(mlp,f)\n",
    "  \n",
    "prediction = mlp.predict(Xtest)"
   ]
  },
  {
   "cell_type": "code",
   "execution_count": 80,
   "metadata": {},
   "outputs": [],
   "source": [
    "all = set(range(1,12801))\n",
    "missing = list(all - set(test_id))\n",
    "rand_label = np.random.randint(1,125, len(missing))\n",
    "\n",
    "pred = [int(i) for i in prediction]\n",
    "pred.extend(rand_label)\n",
    "test_id.extend(missing)"
   ]
  },
  {
   "cell_type": "code",
   "execution_count": 81,
   "metadata": {},
   "outputs": [],
   "source": [
    "answers = pd.DataFrame(columns = ['id','predicted'])\n",
    "answers['predicted'] = pred\n",
    "answers['id'] = test_id"
   ]
  },
  {
   "cell_type": "code",
   "execution_count": null,
   "metadata": {},
   "outputs": [],
   "source": [
    "answers.to_csv('512_prediction.csv', index = False)"
   ]
  },
  {
   "cell_type": "code",
   "execution_count": null,
   "metadata": {},
   "outputs": [],
   "source": []
  },
  {
   "cell_type": "code",
   "execution_count": null,
   "metadata": {},
   "outputs": [],
   "source": []
  },
  {
   "cell_type": "code",
   "execution_count": 76,
   "metadata": {},
   "outputs": [],
   "source": []
  },
  {
   "cell_type": "code",
   "execution_count": null,
   "metadata": {
    "collapsed": true
   },
   "outputs": [],
   "source": []
  },
  {
   "cell_type": "code",
   "execution_count": 23,
   "metadata": {
    "collapsed": true
   },
   "outputs": [],
   "source": []
  },
  {
   "cell_type": "code",
   "execution_count": 14,
   "metadata": {
    "collapsed": true
   },
   "outputs": [],
   "source": []
  },
  {
   "cell_type": "code",
   "execution_count": 19,
   "metadata": {
    "collapsed": true
   },
   "outputs": [],
   "source": []
  },
  {
   "cell_type": "code",
   "execution_count": null,
   "metadata": {},
   "outputs": [],
   "source": []
  },
  {
   "cell_type": "code",
   "execution_count": null,
   "metadata": {
    "collapsed": true
   },
   "outputs": [],
   "source": []
  }
 ],
 "metadata": {
  "kernelspec": {
   "display_name": "Python 3",
   "language": "python",
   "name": "python3"
  },
  "language_info": {
   "codemirror_mode": {
    "name": "ipython",
    "version": 3
   },
   "file_extension": ".py",
   "mimetype": "text/x-python",
   "name": "python",
   "nbconvert_exporter": "python",
   "pygments_lexer": "ipython3",
   "version": "3.6.5"
  }
 },
 "nbformat": 4,
 "nbformat_minor": 2
}
